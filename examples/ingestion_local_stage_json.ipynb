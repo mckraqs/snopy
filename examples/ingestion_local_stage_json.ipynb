{
 "cells": [
  {
   "cell_type": "markdown",
   "metadata": {},
   "source": [
    "# `snopy` - json data ingestion from a local stage"
   ]
  },
  {
   "cell_type": "markdown",
   "metadata": {},
   "source": [
    "## Imports"
   ]
  },
  {
   "cell_type": "code",
   "execution_count": 1,
   "metadata": {},
   "outputs": [],
   "source": [
    "import os\n",
    "from snopy import snopy_connect\n",
    "from snowflake.connector.errors import ProgrammingError"
   ]
  },
  {
   "cell_type": "markdown",
   "metadata": {},
   "source": [
    "## Credentials"
   ]
  },
  {
   "cell_type": "code",
   "execution_count": 2,
   "metadata": {},
   "outputs": [],
   "source": [
    "sf_username=os.environ['SNOWFLAKE_USER']\n",
    "sf_password=os.environ['SNOWFLAKE_PASSWORD']\n",
    "sf_account=os.environ['SNOWFLAKE_ACCOUNT']"
   ]
  },
  {
   "cell_type": "markdown",
   "metadata": {},
   "source": [
    "## Connecting to your Snowflake account"
   ]
  },
  {
   "cell_type": "code",
   "execution_count": 3,
   "metadata": {},
   "outputs": [],
   "source": [
    "sc = snopy_connect(\n",
    "    username=sf_username,\n",
    "    password=sf_password,\n",
    "    account=sf_account\n",
    ")"
   ]
  },
  {
   "cell_type": "markdown",
   "metadata": {},
   "source": [
    "## Environment setup"
   ]
  },
  {
   "cell_type": "code",
   "execution_count": 4,
   "metadata": {},
   "outputs": [],
   "source": [
    "sc.set_environment(\n",
    "    warehouse='COMPUTE_WH',\n",
    "    role='ACCOUNTADMIN'\n",
    ")\n",
    "\n",
    "sc.database.create('SNOPY', or_replace=True, silent=True)\n",
    "sc.database.use('SNOPY', silent=True)\n",
    "sc.schema.create('INGESTION_SCHEMA', or_replace=True, silent=True)\n",
    "sc.schema.use('INGESTION_SCHEMA', silent=True)"
   ]
  },
  {
   "cell_type": "code",
   "execution_count": 5,
   "metadata": {},
   "outputs": [
    {
     "data": {
      "text/plain": [
       "{'role': 'ACCOUNTADMIN',\n",
       " 'database': 'SNOPY',\n",
       " 'schema': 'INGESTION_SCHEMA',\n",
       " 'warehouse': 'COMPUTE_WH'}"
      ]
     },
     "execution_count": 5,
     "metadata": {},
     "output_type": "execute_result"
    }
   ],
   "source": [
    "sc.get_environment()"
   ]
  },
  {
   "cell_type": "markdown",
   "metadata": {},
   "source": [
    "## Creating file format"
   ]
  },
  {
   "cell_type": "code",
   "execution_count": 6,
   "metadata": {},
   "outputs": [
    {
     "data": {
      "text/plain": [
       "{'results': [('File format MY_JSON_FORMAT successfully created.',)],\n",
       " 'description': [ResultMetadata(name='status', type_code=2, display_size=None, internal_size=16777216, precision=None, scale=None, is_nullable=True)],\n",
       " 'statement': 'CREATE OR REPLACE FILE FORMAT my_json_format TYPE = JSON TRIM_SPACE = TRUE'}"
      ]
     },
     "execution_count": 6,
     "metadata": {},
     "output_type": "execute_result"
    }
   ],
   "source": [
    "# It's possible to add extra parameters to the function\n",
    "# They will be passed as additional variables at the end of the query statement\n",
    "results_ff = sc.file_format.create(\n",
    "    'my_json_format', \n",
    "    'JSON', \n",
    "    or_replace=True,\n",
    "    TRIM_SPACE = 'TRUE'\n",
    ")\n",
    "\n",
    "results_ff"
   ]
  },
  {
   "cell_type": "code",
   "execution_count": 7,
   "metadata": {},
   "outputs": [
    {
     "data": {
      "text/plain": [
       "[(datetime.datetime(2022, 9, 15, 8, 33, 17, 331000, tzinfo=<DstTzInfo 'America/Los_Angeles' PDT-1 day, 17:00:00 DST>),\n",
       "  'MY_JSON_FORMAT',\n",
       "  'SNOPY',\n",
       "  'INGESTION_SCHEMA',\n",
       "  'JSON',\n",
       "  'ACCOUNTADMIN',\n",
       "  '',\n",
       "  '{\"TYPE\":\"JSON\",\"FILE_EXTENSION\":null,\"DATE_FORMAT\":\"AUTO\",\"TIME_FORMAT\":\"AUTO\",\"TIMESTAMP_FORMAT\":\"AUTO\",\"BINARY_FORMAT\":\"HEX\",\"TRIM_SPACE\":true,\"NULL_IF\":[],\"COMPRESSION\":\"AUTO\",\"ENABLE_OCTAL\":false,\"ALLOW_DUPLICATE\":false,\"STRIP_OUTER_ARRAY\":false,\"STRIP_NULL_VALUES\":false,\"IGNORE_UTF8_ERRORS\":false,\"REPLACE_INVALID_CHARACTERS\":false,\"SKIP_BYTE_ORDER_MARK\":true}')]"
      ]
     },
     "execution_count": 7,
     "metadata": {},
     "output_type": "execute_result"
    }
   ],
   "source": [
    "# Let's not forget about `snowflake.execute` functionality\n",
    "sc.execute('SHOW FILE FORMATS;')['results']"
   ]
  },
  {
   "cell_type": "markdown",
   "metadata": {},
   "source": [
    "## Creating file format with wrong parameter (not applicable for JSON file format, see [docs](https://docs.snowflake.com/en/sql-reference/sql/create-file-format.html))"
   ]
  },
  {
   "cell_type": "code",
   "execution_count": 8,
   "metadata": {},
   "outputs": [
    {
     "name": "stdout",
     "output_type": "stream",
     "text": [
      "Something went wrong!\n",
      "002135 (42601): SQL compilation error:\n",
      "Option ESCAPE is not valid for file format type JSON.\n"
     ]
    }
   ],
   "source": [
    "try:\n",
    "    sc.file_format.create('my_invalid_son_format', 'JSON', or_replace=True, ESCAPE = '\"\\\\\"')\n",
    "except ProgrammingError as pe:\n",
    "    print('Something went wrong!')\n",
    "    print(pe)"
   ]
  },
  {
   "cell_type": "markdown",
   "metadata": {},
   "source": [
    "## Dropping file format"
   ]
  },
  {
   "cell_type": "code",
   "execution_count": 9,
   "metadata": {},
   "outputs": [],
   "source": [
    "# sc.file_format.drop('my_json_format', if_exists=True)"
   ]
  },
  {
   "cell_type": "markdown",
   "metadata": {},
   "source": [
    "## Creating internal stage"
   ]
  },
  {
   "cell_type": "code",
   "execution_count": 10,
   "metadata": {},
   "outputs": [
    {
     "data": {
      "text/plain": [
       "{'results': [('Stage area MY_INTERNAL_STAGE successfully created.',)],\n",
       " 'description': [ResultMetadata(name='status', type_code=2, display_size=None, internal_size=16777216, precision=None, scale=None, is_nullable=True)],\n",
       " 'statement': 'CREATE OR REPLACE STAGE my_internal_stage FILE_FORMAT = my_json_format'}"
      ]
     },
     "execution_count": 10,
     "metadata": {},
     "output_type": "execute_result"
    }
   ],
   "source": [
    "sc.stage.create(\n",
    "    stage_name='my_internal_stage', \n",
    "    or_replace=True,\n",
    "    file_format_name='my_json_format'\n",
    ")"
   ]
  },
  {
   "cell_type": "markdown",
   "metadata": {},
   "source": [
    "## Putting data on the stage"
   ]
  },
  {
   "cell_type": "code",
   "execution_count": 11,
   "metadata": {},
   "outputs": [],
   "source": [
    "sc.stage.put(\n",
    "    filepath='file://data/meteorites.json',\n",
    "    internal_stage_name='@my_internal_stage',\n",
    "    overwrite=True,\n",
    "    silent=True\n",
    ")"
   ]
  },
  {
   "cell_type": "markdown",
   "metadata": {},
   "source": [
    "## Listing files inside stage"
   ]
  },
  {
   "cell_type": "code",
   "execution_count": 12,
   "metadata": {},
   "outputs": [
    {
     "name": "stdout",
     "output_type": "stream",
     "text": [
      "[('my_internal_stage/meteorites.json.gz', 34400, '299c996d4d6d59bb0da5f2ec44ca3b4d', 'Thu, 15 Sep 2022 15:33:23 GMT')]\n",
      "LIST @my_internal_stage\n"
     ]
    }
   ],
   "source": [
    "result_list_stage = sc.stage.list('@my_internal_stage')\n",
    "\n",
    "print(result_list_stage['results'])\n",
    "print(result_list_stage['statement'])"
   ]
  },
  {
   "cell_type": "markdown",
   "metadata": {},
   "source": [
    "## Creating table with query execution"
   ]
  },
  {
   "cell_type": "code",
   "execution_count": 13,
   "metadata": {},
   "outputs": [
    {
     "data": {
      "text/plain": [
       "[('Table METEORITES successfully created.',)]"
      ]
     },
     "execution_count": 13,
     "metadata": {},
     "output_type": "execute_result"
    }
   ],
   "source": [
    "query_create_table = \"\"\"\n",
    "    CREATE OR REPLACE TABLE meteorites (\n",
    "        name VARCHAR\n",
    "        , id INT\n",
    "        , nametype VARCHAR\n",
    "        , recclass VARCHAR\n",
    "        , mass INT\n",
    "        , fall VARCHAR\n",
    "        , year DATE\n",
    "        , reclat FLOAT\n",
    "        , reclong FLOAT\n",
    "        , geolocation OBJECT\n",
    "    );\n",
    "\"\"\"\n",
    "\n",
    "# No worries, Table API will be available soon too!\n",
    "sc.execute(query_create_table)['results']"
   ]
  },
  {
   "cell_type": "markdown",
   "metadata": {},
   "source": [
    "## Loading data from internal stage to a table\n",
    "\n",
    "As we're loading data in JSON format, transformations are required to not put everything into a single VARIANT type column (for more, [see the documentation](https://docs.snowflake.com/en/sql-reference/data-types-semistructured.html))."
   ]
  },
  {
   "cell_type": "code",
   "execution_count": 14,
   "metadata": {},
   "outputs": [],
   "source": [
    "transformation_statement = \"\"\"\n",
    "    SELECT\n",
    "        $1:name::varchar AS name\n",
    "        , $1:id::int AS id\n",
    "        , $1:nametype::varchar AS nametype\n",
    "        , $1:recclass::varchar AS recclass\n",
    "        , $1:mass::int AS mass\n",
    "        , $1:fall::varchar AS fall\n",
    "        , $1:year::date AS date\n",
    "        , $1:reclat::float AS reclat\n",
    "        , $1:reclong::float AS reclong\n",
    "        , $1:geolocation::object AS geolocation\n",
    "    FROM @my_internal_stage\n",
    "\"\"\"\n",
    "\n",
    "sc.copy_into(\n",
    "    table_name='meteorites',\n",
    "    source_stage=transformation_statement,\n",
    "    silent=True\n",
    ")"
   ]
  },
  {
   "cell_type": "markdown",
   "metadata": {},
   "source": [
    "## Data querying straight to Pandas DataFrame"
   ]
  },
  {
   "cell_type": "code",
   "execution_count": 16,
   "metadata": {},
   "outputs": [
    {
     "data": {
      "text/html": [
       "<div>\n",
       "<style scoped>\n",
       "    .dataframe tbody tr th:only-of-type {\n",
       "        vertical-align: middle;\n",
       "    }\n",
       "\n",
       "    .dataframe tbody tr th {\n",
       "        vertical-align: top;\n",
       "    }\n",
       "\n",
       "    .dataframe thead th {\n",
       "        text-align: right;\n",
       "    }\n",
       "</style>\n",
       "<table border=\"1\" class=\"dataframe\">\n",
       "  <thead>\n",
       "    <tr style=\"text-align: right;\">\n",
       "      <th></th>\n",
       "      <th>NAME</th>\n",
       "      <th>ID</th>\n",
       "      <th>NAMETYPE</th>\n",
       "      <th>RECCLASS</th>\n",
       "      <th>MASS</th>\n",
       "      <th>FALL</th>\n",
       "      <th>YEAR</th>\n",
       "      <th>RECLAT</th>\n",
       "      <th>RECLONG</th>\n",
       "      <th>GEOLOCATION</th>\n",
       "      <th>GEO_TYPE</th>\n",
       "    </tr>\n",
       "  </thead>\n",
       "  <tbody>\n",
       "    <tr>\n",
       "      <th>0</th>\n",
       "      <td>Aachen</td>\n",
       "      <td>1</td>\n",
       "      <td>Valid</td>\n",
       "      <td>L5</td>\n",
       "      <td>21</td>\n",
       "      <td>Fell</td>\n",
       "      <td>1880-01-01</td>\n",
       "      <td>50.77500</td>\n",
       "      <td>6.08333</td>\n",
       "      <td>{\\n  \"coordinates\": [\\n    6.08333,\\n    50.77...</td>\n",
       "      <td>Point</td>\n",
       "    </tr>\n",
       "    <tr>\n",
       "      <th>1</th>\n",
       "      <td>Aarhus</td>\n",
       "      <td>2</td>\n",
       "      <td>Valid</td>\n",
       "      <td>H6</td>\n",
       "      <td>720</td>\n",
       "      <td>Fell</td>\n",
       "      <td>1951-01-01</td>\n",
       "      <td>56.18333</td>\n",
       "      <td>10.23333</td>\n",
       "      <td>{\\n  \"coordinates\": [\\n    10.23333,\\n    56.1...</td>\n",
       "      <td>Point</td>\n",
       "    </tr>\n",
       "    <tr>\n",
       "      <th>2</th>\n",
       "      <td>Abee</td>\n",
       "      <td>6</td>\n",
       "      <td>Valid</td>\n",
       "      <td>EH4</td>\n",
       "      <td>107000</td>\n",
       "      <td>Fell</td>\n",
       "      <td>1952-01-01</td>\n",
       "      <td>54.21667</td>\n",
       "      <td>-113.00000</td>\n",
       "      <td>{\\n  \"coordinates\": [\\n    -113,\\n    54.21667...</td>\n",
       "      <td>Point</td>\n",
       "    </tr>\n",
       "    <tr>\n",
       "      <th>3</th>\n",
       "      <td>Acapulco</td>\n",
       "      <td>10</td>\n",
       "      <td>Valid</td>\n",
       "      <td>Acapulcoite</td>\n",
       "      <td>1914</td>\n",
       "      <td>Fell</td>\n",
       "      <td>1976-01-01</td>\n",
       "      <td>16.88333</td>\n",
       "      <td>-99.90000</td>\n",
       "      <td>{\\n  \"coordinates\": [\\n    -99.9,\\n    16.8833...</td>\n",
       "      <td>Point</td>\n",
       "    </tr>\n",
       "    <tr>\n",
       "      <th>4</th>\n",
       "      <td>Achiras</td>\n",
       "      <td>370</td>\n",
       "      <td>Valid</td>\n",
       "      <td>L6</td>\n",
       "      <td>780</td>\n",
       "      <td>Fell</td>\n",
       "      <td>1902-01-01</td>\n",
       "      <td>-33.16667</td>\n",
       "      <td>-64.95000</td>\n",
       "      <td>{\\n  \"coordinates\": [\\n    -64.95,\\n    -33.16...</td>\n",
       "      <td>Point</td>\n",
       "    </tr>\n",
       "  </tbody>\n",
       "</table>\n",
       "</div>"
      ],
      "text/plain": [
       "       NAME   ID NAMETYPE     RECCLASS    MASS  FALL        YEAR    RECLAT  \\\n",
       "0    Aachen    1    Valid           L5      21  Fell  1880-01-01  50.77500   \n",
       "1    Aarhus    2    Valid           H6     720  Fell  1951-01-01  56.18333   \n",
       "2      Abee    6    Valid          EH4  107000  Fell  1952-01-01  54.21667   \n",
       "3  Acapulco   10    Valid  Acapulcoite    1914  Fell  1976-01-01  16.88333   \n",
       "4   Achiras  370    Valid           L6     780  Fell  1902-01-01 -33.16667   \n",
       "\n",
       "     RECLONG                                        GEOLOCATION GEO_TYPE  \n",
       "0    6.08333  {\\n  \"coordinates\": [\\n    6.08333,\\n    50.77...    Point  \n",
       "1   10.23333  {\\n  \"coordinates\": [\\n    10.23333,\\n    56.1...    Point  \n",
       "2 -113.00000  {\\n  \"coordinates\": [\\n    -113,\\n    54.21667...    Point  \n",
       "3  -99.90000  {\\n  \"coordinates\": [\\n    -99.9,\\n    16.8833...    Point  \n",
       "4  -64.95000  {\\n  \"coordinates\": [\\n    -64.95,\\n    -33.16...    Point  "
      ]
     },
     "execution_count": 16,
     "metadata": {},
     "output_type": "execute_result"
    }
   ],
   "source": [
    "data_meteorites = sc.query_pd(\"SELECT *, geolocation['type']::varchar as geo_type FROM meteorites;\")\n",
    "data_meteorites.head()"
   ]
  },
  {
   "cell_type": "markdown",
   "metadata": {},
   "source": [
    "## Closing the connection"
   ]
  },
  {
   "cell_type": "code",
   "execution_count": 17,
   "metadata": {},
   "outputs": [],
   "source": [
    "sc.close_connection()"
   ]
  }
 ],
 "metadata": {
  "kernelspec": {
   "display_name": "Python 3 (ipykernel)",
   "language": "python",
   "name": "python3"
  },
  "language_info": {
   "codemirror_mode": {
    "name": "ipython",
    "version": 3
   },
   "file_extension": ".py",
   "mimetype": "text/x-python",
   "name": "python",
   "nbconvert_exporter": "python",
   "pygments_lexer": "ipython3",
   "version": "3.8.10"
  }
 },
 "nbformat": 4,
 "nbformat_minor": 1
}
