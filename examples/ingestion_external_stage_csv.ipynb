{
 "cells": [
  {
   "cell_type": "markdown",
   "metadata": {},
   "source": [
    "# `snopy` - data ingestion from an external stage (AWS)"
   ]
  },
  {
   "cell_type": "markdown",
   "metadata": {},
   "source": [
    "## Imports"
   ]
  },
  {
   "cell_type": "code",
   "execution_count": 1,
   "metadata": {},
   "outputs": [],
   "source": [
    "import os\n",
    "import pandas as pd\n",
    "\n",
    "from snopy import snopy_connect\n",
    "from snowflake.connector.errors import ProgrammingError"
   ]
  },
  {
   "cell_type": "markdown",
   "metadata": {},
   "source": [
    "## Credentials"
   ]
  },
  {
   "cell_type": "code",
   "execution_count": 2,
   "metadata": {},
   "outputs": [],
   "source": [
    "sf_username=os.environ['SNOWFLAKE_USER']\n",
    "sf_password=os.environ['SNOWFLAKE_PASSWORD']\n",
    "sf_account=os.environ['SNOWFLAKE_ACCOUNT']"
   ]
  },
  {
   "cell_type": "markdown",
   "metadata": {},
   "source": [
    "## Connecting to your Snowflake account"
   ]
  },
  {
   "cell_type": "code",
   "execution_count": 3,
   "metadata": {},
   "outputs": [],
   "source": [
    "sc = snopy_connect(\n",
    "    username=sf_username,\n",
    "    password=sf_password,\n",
    "    account=sf_account\n",
    ")"
   ]
  },
  {
   "cell_type": "markdown",
   "metadata": {},
   "source": [
    "## Environment setup"
   ]
  },
  {
   "cell_type": "code",
   "execution_count": 4,
   "metadata": {},
   "outputs": [],
   "source": [
    "sc.role.use('ACCOUNTADMIN', silent=True)\n",
    "sc.warehouse.use('COMPUTE_WH', silent=True)\n",
    "sc.database.create('SNOPY', or_replace=True, silent=True)\n",
    "sc.database.use('SNOPY', silent=True)\n",
    "sc.schema.create('INGESTION_SCHEMA', or_replace=True, silent=True)\n",
    "sc.schema.use('INGESTION_SCHEMA', silent=True)"
   ]
  },
  {
   "cell_type": "code",
   "execution_count": 5,
   "metadata": {},
   "outputs": [
    {
     "data": {
      "text/plain": [
       "{'role': 'ACCOUNTADMIN',\n",
       " 'database': 'SNOPY',\n",
       " 'schema': 'INGESTION_SCHEMA',\n",
       " 'warehouse': 'COMPUTE_WH'}"
      ]
     },
     "execution_count": 5,
     "metadata": {},
     "output_type": "execute_result"
    }
   ],
   "source": [
    "sc.get_environment()"
   ]
  },
  {
   "cell_type": "markdown",
   "metadata": {},
   "source": [
    "## Creating file format"
   ]
  },
  {
   "cell_type": "code",
   "execution_count": 6,
   "metadata": {},
   "outputs": [
    {
     "data": {
      "text/plain": [
       "{'results': [('File format MY_JSON_FORMAT successfully created.',)],\n",
       " 'description': [ResultMetadata(name='status', type_code=2, display_size=None, internal_size=16777216, precision=None, scale=None, is_nullable=True)],\n",
       " 'statement': 'CREATE OR REPLACE FILE FORMAT my_json_format TYPE = JSON'}"
      ]
     },
     "execution_count": 6,
     "metadata": {},
     "output_type": "execute_result"
    }
   ],
   "source": [
    "results_ff = sc.file_format.create(\n",
    "    'my_json_format', \n",
    "    'JSON',\n",
    "    or_replace=True\n",
    ")\n",
    "\n",
    "results_ff"
   ]
  },
  {
   "cell_type": "markdown",
   "metadata": {},
   "source": [
    "## Creating external stage for public data"
   ]
  },
  {
   "cell_type": "code",
   "execution_count": 7,
   "metadata": {},
   "outputs": [
    {
     "data": {
      "text/plain": [
       "{'results': [('Stage area EXTERNAL_AWS_STAGE_PUBLIC successfully created.',)],\n",
       " 'description': [ResultMetadata(name='status', type_code=2, display_size=None, internal_size=16777216, precision=None, scale=None, is_nullable=True)],\n",
       " 'statement': \"CREATE OR REPLACE STAGE external_aws_stage_public FILE_FORMAT = my_json_format url = 's3://amazon-reviews-ml/json/dev/dataset_en_dev.json'\"}"
      ]
     },
     "execution_count": 7,
     "metadata": {},
     "output_type": "execute_result"
    }
   ],
   "source": [
    "sc.stage.create(\n",
    "    stage_name='external_aws_stage_public',\n",
    "    or_replace=True,\n",
    "    file_format_name='my_json_format',\n",
    "    url=\"'s3://amazon-reviews-ml/json/dev/dataset_en_dev.json'\"\n",
    ")"
   ]
  },
  {
   "cell_type": "markdown",
   "metadata": {},
   "source": [
    "## Creating a table"
   ]
  },
  {
   "cell_type": "code",
   "execution_count": 8,
   "metadata": {},
   "outputs": [
    {
     "data": {
      "text/plain": [
       "[('Table REVIEWS_DEV_PUBLIC successfully created.',)]"
      ]
     },
     "execution_count": 8,
     "metadata": {},
     "output_type": "execute_result"
    }
   ],
   "source": [
    "query_create_table = \"\"\"\n",
    "    CREATE OR REPLACE TABLE reviews_dev_public (\n",
    "      language VARCHAR\n",
    "      , product_category VARCHAR\n",
    "      , product_id VARCHAR\n",
    "      , review_body VARCHAR\n",
    "      , review_id VARCHAR\n",
    "      , review_title VARCHAR\n",
    "      , reviewer_id VARCHAR\n",
    "      , stars INT\n",
    "    );\n",
    "\"\"\"\n",
    "\n",
    "# No worries, Table API will be available soon too!\n",
    "sc.execute(query_create_table)['results']"
   ]
  },
  {
   "cell_type": "markdown",
   "metadata": {},
   "source": [
    "## Loading data from public external stage to a table\n",
    "\n",
    "As we're loading data in JSON format, transformations are required to not put everything into a single VARIANT type column (for more, [see the documentation](https://docs.snowflake.com/en/sql-reference/data-types-semistructured.html))."
   ]
  },
  {
   "cell_type": "code",
   "execution_count": 9,
   "metadata": {},
   "outputs": [],
   "source": [
    "transformation_statement = \"\"\"\n",
    "    SELECT\n",
    "        $1:language::varchar AS language\n",
    "        , $1:product_category::varchar AS product_category\n",
    "        , $1:product_id::varchar AS product_id\n",
    "        , $1:review_body::varchar AS review_body\n",
    "        , $1:review_id::varchar AS review_id\n",
    "        , $1:review_title::varchar AS review_title\n",
    "        , $1:reviewer_id::varchar AS reviewer_id\n",
    "        , $1:stars::int AS stars\n",
    "    FROM @external_aws_stage_public\n",
    "\"\"\"\n",
    "\n",
    "sc.copy_into(\n",
    "    table_name='reviews_dev_public',\n",
    "    source_stage=transformation_statement,\n",
    "    silent=True\n",
    ")"
   ]
  },
  {
   "cell_type": "markdown",
   "metadata": {},
   "source": [
    "## Data querying straight to Pandas DataFrame"
   ]
  },
  {
   "cell_type": "code",
   "execution_count": 10,
   "metadata": {},
   "outputs": [
    {
     "data": {
      "text/html": [
       "<div>\n",
       "<style scoped>\n",
       "    .dataframe tbody tr th:only-of-type {\n",
       "        vertical-align: middle;\n",
       "    }\n",
       "\n",
       "    .dataframe tbody tr th {\n",
       "        vertical-align: top;\n",
       "    }\n",
       "\n",
       "    .dataframe thead th {\n",
       "        text-align: right;\n",
       "    }\n",
       "</style>\n",
       "<table border=\"1\" class=\"dataframe\">\n",
       "  <thead>\n",
       "    <tr style=\"text-align: right;\">\n",
       "      <th></th>\n",
       "      <th>LANGUAGE</th>\n",
       "      <th>PRODUCT_CATEGORY</th>\n",
       "      <th>PRODUCT_ID</th>\n",
       "      <th>REVIEW_BODY</th>\n",
       "      <th>REVIEW_ID</th>\n",
       "      <th>REVIEW_TITLE</th>\n",
       "      <th>REVIEWER_ID</th>\n",
       "      <th>STARS</th>\n",
       "    </tr>\n",
       "  </thead>\n",
       "  <tbody>\n",
       "    <tr>\n",
       "      <th>0</th>\n",
       "      <td>en</td>\n",
       "      <td>baby_product</td>\n",
       "      <td>product_en_0878845</td>\n",
       "      <td>Pathetic design of the caps. Very impractical ...</td>\n",
       "      <td>en_0968227</td>\n",
       "      <td>Not worth the price and very bad cap design</td>\n",
       "      <td>reviewer_en_0987470</td>\n",
       "      <td>1</td>\n",
       "    </tr>\n",
       "    <tr>\n",
       "      <th>1</th>\n",
       "      <td>en</td>\n",
       "      <td>shoes</td>\n",
       "      <td>product_en_0004522</td>\n",
       "      <td>Shoes were purchased on March 6, 2019. My wife...</td>\n",
       "      <td>en_0830781</td>\n",
       "      <td>Garbage!</td>\n",
       "      <td>reviewer_en_0731158</td>\n",
       "      <td>1</td>\n",
       "    </tr>\n",
       "    <tr>\n",
       "      <th>2</th>\n",
       "      <td>en</td>\n",
       "      <td>office_product</td>\n",
       "      <td>product_en_0060687</td>\n",
       "      <td>It's taken me 1 whole year to set this thing u...</td>\n",
       "      <td>en_0277954</td>\n",
       "      <td>I do not recommend this printer</td>\n",
       "      <td>reviewer_en_0793876</td>\n",
       "      <td>1</td>\n",
       "    </tr>\n",
       "    <tr>\n",
       "      <th>3</th>\n",
       "      <td>en</td>\n",
       "      <td>office_product</td>\n",
       "      <td>product_en_0311791</td>\n",
       "      <td>Each cartridge printed once. Both dried up in ...</td>\n",
       "      <td>en_0316499</td>\n",
       "      <td>Don't purchase these refurbished cartridges!</td>\n",
       "      <td>reviewer_en_0837288</td>\n",
       "      <td>1</td>\n",
       "    </tr>\n",
       "    <tr>\n",
       "      <th>4</th>\n",
       "      <td>en</td>\n",
       "      <td>baby_product</td>\n",
       "      <td>product_en_0472877</td>\n",
       "      <td>No light hard to see</td>\n",
       "      <td>en_0320665</td>\n",
       "      <td>Not worth</td>\n",
       "      <td>reviewer_en_0878169</td>\n",
       "      <td>1</td>\n",
       "    </tr>\n",
       "  </tbody>\n",
       "</table>\n",
       "</div>"
      ],
      "text/plain": [
       "  LANGUAGE PRODUCT_CATEGORY          PRODUCT_ID  \\\n",
       "0       en     baby_product  product_en_0878845   \n",
       "1       en            shoes  product_en_0004522   \n",
       "2       en   office_product  product_en_0060687   \n",
       "3       en   office_product  product_en_0311791   \n",
       "4       en     baby_product  product_en_0472877   \n",
       "\n",
       "                                         REVIEW_BODY   REVIEW_ID  \\\n",
       "0  Pathetic design of the caps. Very impractical ...  en_0968227   \n",
       "1  Shoes were purchased on March 6, 2019. My wife...  en_0830781   \n",
       "2  It's taken me 1 whole year to set this thing u...  en_0277954   \n",
       "3  Each cartridge printed once. Both dried up in ...  en_0316499   \n",
       "4                               No light hard to see  en_0320665   \n",
       "\n",
       "                                   REVIEW_TITLE          REVIEWER_ID  STARS  \n",
       "0   Not worth the price and very bad cap design  reviewer_en_0987470      1  \n",
       "1                                      Garbage!  reviewer_en_0731158      1  \n",
       "2               I do not recommend this printer  reviewer_en_0793876      1  \n",
       "3  Don't purchase these refurbished cartridges!  reviewer_en_0837288      1  \n",
       "4                                     Not worth  reviewer_en_0878169      1  "
      ]
     },
     "execution_count": 10,
     "metadata": {},
     "output_type": "execute_result"
    }
   ],
   "source": [
    "reviews_dev_public = sc.query_pd('SELECT * FROM reviews_dev_public')\n",
    "reviews_dev_public.head()"
   ]
  },
  {
   "cell_type": "markdown",
   "metadata": {},
   "source": [
    "---\n",
    "\n",
    "## Creating storage integration for AWS S3 bucket connection with Snowflake\n",
    "\n",
    "For more about connecting your private cloud storage with Snowflake see below documentation pages:\n",
    "\n",
    "- [Loading data to Snowflake from AWS S3](https://docs.snowflake.com/en/user-guide/data-load-s3.html)\n",
    "- [Loading data to Snowflake from Google Cloud Storage](https://docs.snowflake.com/en/user-guide/data-load-gcs.html)\n",
    "- [Loading data to Snowflake from Azure](https://docs.snowflake.com/en/user-guide/data-load-azure.html)\n",
    "- [External stage create command - necessary parameters](https://docs.snowflake.com/en/sql-reference/sql/create-stage.html#external-stage-parameters-externalstageparams)\n",
    "\n",
    "Bear in mind that **only users with ACCOUNTADMIN role** selected can create storage integration objects.\n",
    "\n",
    "Below cells follow `Option 1` from the [list of available approaches](https://docs.snowflake.com/en/user-guide/data-load-s3-config.html). It's highly recommended to do it this way, thus let's follow the advice.\n",
    "\n",
    "Some of the parameters are dummy, for security reasons, although cells were executed with proper values. If you follow the instructions in Snowflake documentation, you shouldn't have any issues modifying them."
   ]
  },
  {
   "cell_type": "code",
   "execution_count": null,
   "metadata": {},
   "outputs": [],
   "source": [
    "sc.storage_integration.create(\n",
    "    storage_integration_name='storage_integration_aws_snopy_sf_data',\n",
    "    storage_provider='S3',\n",
    "    storage_allowed_locations=['s3://snopy-snowflake-data/'],\n",
    "    STORAGE_AWS_ROLE_ARN=\"'arn:aws:iam::112233445566:role/SnopyDummyRole'\",\n",
    "    or_replace=True,\n",
    "    silent=True\n",
    ")"
   ]
  },
  {
   "cell_type": "markdown",
   "metadata": {},
   "source": [
    "## Setting up proper IAM access\n",
    "\n",
    "Policy code is taken directly from [Snowflake documentation](https://docs.snowflake.com/en/user-guide/data-load-s3-config-storage-integration.html)."
   ]
  },
  {
   "cell_type": "code",
   "execution_count": null,
   "metadata": {},
   "outputs": [],
   "source": [
    "# Remove `head()` to see all necessary values\n",
    "# pd.set_option('display.max_colwidth', None) # useful to copy-paste parameters\n",
    "sc.query_pd('DESC INTEGRATION storage_integration_aws_snopy_sf_data;').iloc[:, [0, 2]].head(2)"
   ]
  },
  {
   "cell_type": "markdown",
   "metadata": {},
   "source": [
    "According to values returned by storage integration description, please go to AWS console and alter your IAM Role's Trust Policy.\n",
    "\n",
    "When this is done, you can proceed forward."
   ]
  },
  {
   "cell_type": "markdown",
   "metadata": {},
   "source": [
    "## Creating external stage for private data"
   ]
  },
  {
   "cell_type": "code",
   "execution_count": null,
   "metadata": {},
   "outputs": [],
   "source": [
    "sc.stage.create(\n",
    "    stage_name='external_aws_stage_private',\n",
    "    STORAGE_INTEGRATION='storage_integration_aws_snopy_sf_data',\n",
    "    url=\"'s3://snopy-snowflake-data/'\",\n",
    "    file_format_name='my_json_format',\n",
    "    or_replace=True\n",
    ")"
   ]
  },
  {
   "cell_type": "markdown",
   "metadata": {},
   "source": [
    "## Listing external stage objects"
   ]
  },
  {
   "cell_type": "code",
   "execution_count": null,
   "metadata": {},
   "outputs": [],
   "source": [
    "sc.query_pd('LIST @external_aws_stage_private')"
   ]
  },
  {
   "cell_type": "markdown",
   "metadata": {},
   "source": [
    "## Creating a table"
   ]
  },
  {
   "cell_type": "code",
   "execution_count": null,
   "metadata": {},
   "outputs": [],
   "source": [
    "query_create_table = \"\"\"\n",
    "    CREATE OR REPLACE TABLE noaa_climatology_ext (\n",
    "        id VARCHAR\n",
    "        , date DATETIME\n",
    "        , element VARCHAR\n",
    "        , data_value INT\n",
    "        , m_flag VARCHAR\n",
    "        , q_flag VARCHAR\n",
    "        , s_flag VARCHAR\n",
    "        , obstime TIMESTAMP\n",
    "    );\n",
    "\"\"\"\n",
    "\n",
    "sc.execute(query_create_table)['results']"
   ]
  },
  {
   "cell_type": "markdown",
   "metadata": {},
   "source": [
    "## Loading data from private external stage to a table"
   ]
  },
  {
   "cell_type": "code",
   "execution_count": null,
   "metadata": {},
   "outputs": [],
   "source": [
    "sc.copy_into(\n",
    "    table_name='noaa_climatology_ext',\n",
    "    source_stage='@external_aws_stage_private',\n",
    "    silent=True\n",
    ")"
   ]
  },
  {
   "cell_type": "markdown",
   "metadata": {},
   "source": [
    "## Querying data straight to Pandas DataFrame"
   ]
  },
  {
   "cell_type": "code",
   "execution_count": null,
   "metadata": {},
   "outputs": [],
   "source": [
    "pd.set_option('display.max_colwidth', 100)\n",
    "reviews_dev_public = sc.query_pd('SELECT * FROM noaa_climatology_ext')\n",
    "reviews_dev_public.head()"
   ]
  },
  {
   "cell_type": "markdown",
   "metadata": {},
   "source": [
    "## Dropping storage integration"
   ]
  },
  {
   "cell_type": "code",
   "execution_count": null,
   "metadata": {},
   "outputs": [],
   "source": [
    "sc.storage_integration.drop('storage_integration_aws_snopy_sf_data')"
   ]
  },
  {
   "cell_type": "markdown",
   "metadata": {},
   "source": [
    "## Closing the connection"
   ]
  },
  {
   "cell_type": "code",
   "execution_count": null,
   "metadata": {},
   "outputs": [],
   "source": [
    "sc.close_connection()"
   ]
  }
 ],
 "metadata": {
  "kernelspec": {
   "display_name": "Python 3 (ipykernel)",
   "language": "python",
   "name": "python3"
  },
  "language_info": {
   "codemirror_mode": {
    "name": "ipython",
    "version": 3
   },
   "file_extension": ".py",
   "mimetype": "text/x-python",
   "name": "python",
   "nbconvert_exporter": "python",
   "pygments_lexer": "ipython3",
   "version": "3.8.10"
  }
 },
 "nbformat": 4,
 "nbformat_minor": 1
}
