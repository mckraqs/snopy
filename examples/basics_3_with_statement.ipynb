{
 "cells": [
  {
   "cell_type": "markdown",
   "metadata": {},
   "source": [
    "# `snopy` - basic usage with a context manager ([PEP-343](https://peps.python.org/pep-0343/))"
   ]
  },
  {
   "cell_type": "markdown",
   "metadata": {},
   "source": [
    "## Imports"
   ]
  },
  {
   "cell_type": "code",
   "execution_count": 1,
   "metadata": {},
   "outputs": [],
   "source": [
    "import os\n",
    "from snopy import SnowflakeConnector"
   ]
  },
  {
   "cell_type": "markdown",
   "metadata": {},
   "source": [
    "## Credentials"
   ]
  },
  {
   "cell_type": "code",
   "execution_count": 2,
   "metadata": {},
   "outputs": [],
   "source": [
    "sf_username=os.environ['SNOWFLAKE_USER']\n",
    "sf_password=os.environ['SNOWFLAKE_PASSWORD']\n",
    "sf_account=os.environ['SNOWFLAKE_ACCOUNT']"
   ]
  },
  {
   "cell_type": "markdown",
   "metadata": {},
   "source": [
    "## Connecting to your Snowflake account with a constructor"
   ]
  },
  {
   "cell_type": "code",
   "execution_count": 3,
   "metadata": {},
   "outputs": [],
   "source": [
    "sc = SnowflakeConnector(\n",
    "    username=sf_username,\n",
    "    password=sf_password,\n",
    "    account=sf_account,\n",
    "    warehouse='COMPUTE_WH',\n",
    "    database='SNOWFLAKE_SAMPLE_DATA',\n",
    "    schema='TPCH_SF100'\n",
    ")"
   ]
  },
  {
   "cell_type": "code",
   "execution_count": 4,
   "metadata": {},
   "outputs": [
    {
     "data": {
      "text/plain": [
       "True"
      ]
     },
     "execution_count": 4,
     "metadata": {},
     "output_type": "execute_result"
    }
   ],
   "source": [
    "sc.connected"
   ]
  },
  {
   "cell_type": "code",
   "execution_count": 5,
   "metadata": {},
   "outputs": [
    {
     "data": {
      "text/html": [
       "<div>\n",
       "<style scoped>\n",
       "    .dataframe tbody tr th:only-of-type {\n",
       "        vertical-align: middle;\n",
       "    }\n",
       "\n",
       "    .dataframe tbody tr th {\n",
       "        vertical-align: top;\n",
       "    }\n",
       "\n",
       "    .dataframe thead th {\n",
       "        text-align: right;\n",
       "    }\n",
       "</style>\n",
       "<table border=\"1\" class=\"dataframe\">\n",
       "  <thead>\n",
       "    <tr style=\"text-align: right;\">\n",
       "      <th></th>\n",
       "      <th>C_CUSTKEY</th>\n",
       "      <th>C_NAME</th>\n",
       "      <th>C_ADDRESS</th>\n",
       "      <th>C_NATIONKEY</th>\n",
       "      <th>C_PHONE</th>\n",
       "      <th>C_ACCTBAL</th>\n",
       "      <th>C_MKTSEGMENT</th>\n",
       "      <th>C_COMMENT</th>\n",
       "    </tr>\n",
       "  </thead>\n",
       "  <tbody>\n",
       "    <tr>\n",
       "      <th>0</th>\n",
       "      <td>1937281</td>\n",
       "      <td>Customer#001937281</td>\n",
       "      <td>6xPBL5fuEyQI83U3GVABqEWiKi5PI</td>\n",
       "      <td>7</td>\n",
       "      <td>17-391-174-3874</td>\n",
       "      <td>4201.49</td>\n",
       "      <td>BUILDING</td>\n",
       "      <td>nts are carefully blithely pending ideas. slyl...</td>\n",
       "    </tr>\n",
       "    <tr>\n",
       "      <th>1</th>\n",
       "      <td>1937282</td>\n",
       "      <td>Customer#001937282</td>\n",
       "      <td>ZCtUeLyCikiejeAKu8qeV</td>\n",
       "      <td>15</td>\n",
       "      <td>25-471-321-8939</td>\n",
       "      <td>3520.51</td>\n",
       "      <td>BUILDING</td>\n",
       "      <td>g to the final, silent escapades lose fluffily...</td>\n",
       "    </tr>\n",
       "    <tr>\n",
       "      <th>2</th>\n",
       "      <td>1937283</td>\n",
       "      <td>Customer#001937283</td>\n",
       "      <td>aNOsc2OPyxLj4n0p</td>\n",
       "      <td>12</td>\n",
       "      <td>22-351-208-2270</td>\n",
       "      <td>9137.50</td>\n",
       "      <td>HOUSEHOLD</td>\n",
       "      <td>waters sleep slyly special deposits. platelet...</td>\n",
       "    </tr>\n",
       "  </tbody>\n",
       "</table>\n",
       "</div>"
      ],
      "text/plain": [
       "   C_CUSTKEY              C_NAME                      C_ADDRESS  C_NATIONKEY  \\\n",
       "0    1937281  Customer#001937281  6xPBL5fuEyQI83U3GVABqEWiKi5PI            7   \n",
       "1    1937282  Customer#001937282          ZCtUeLyCikiejeAKu8qeV           15   \n",
       "2    1937283  Customer#001937283               aNOsc2OPyxLj4n0p           12   \n",
       "\n",
       "           C_PHONE C_ACCTBAL C_MKTSEGMENT  \\\n",
       "0  17-391-174-3874   4201.49     BUILDING   \n",
       "1  25-471-321-8939   3520.51     BUILDING   \n",
       "2  22-351-208-2270   9137.50    HOUSEHOLD   \n",
       "\n",
       "                                           C_COMMENT  \n",
       "0  nts are carefully blithely pending ideas. slyl...  \n",
       "1  g to the final, silent escapades lose fluffily...  \n",
       "2   waters sleep slyly special deposits. platelet...  "
      ]
     },
     "execution_count": 5,
     "metadata": {},
     "output_type": "execute_result"
    }
   ],
   "source": [
    "sc.query_pd('SELECT * FROM CUSTOMER LIMIT 3').head()"
   ]
  },
  {
   "cell_type": "code",
   "execution_count": 6,
   "metadata": {},
   "outputs": [],
   "source": [
    "sc.close_connection()"
   ]
  },
  {
   "cell_type": "code",
   "execution_count": 7,
   "metadata": {},
   "outputs": [
    {
     "data": {
      "text/plain": [
       "False"
      ]
     },
     "execution_count": 7,
     "metadata": {},
     "output_type": "execute_result"
    }
   ],
   "source": [
    "sc.connected"
   ]
  },
  {
   "cell_type": "markdown",
   "metadata": {},
   "source": [
    "## Connecting to your Snowflake account with a context manager"
   ]
  },
  {
   "cell_type": "code",
   "execution_count": 8,
   "metadata": {},
   "outputs": [],
   "source": [
    "# e.g., to quickly fetch the data for further pandas processing\n",
    "with SnowflakeConnector(\n",
    "    username=sf_username,\n",
    "    password=sf_password,\n",
    "    account=sf_account,\n",
    "    warehouse='COMPUTE_WH',\n",
    "    database='SNOWFLAKE_SAMPLE_DATA',\n",
    "    schema='TPCH_SF100'\n",
    ") as sc_cm:\n",
    "    data_sf = sc_cm.query_pd('SELECT * FROM CUSTOMER LIMIT 3')"
   ]
  },
  {
   "cell_type": "code",
   "execution_count": 9,
   "metadata": {},
   "outputs": [
    {
     "data": {
      "text/html": [
       "<div>\n",
       "<style scoped>\n",
       "    .dataframe tbody tr th:only-of-type {\n",
       "        vertical-align: middle;\n",
       "    }\n",
       "\n",
       "    .dataframe tbody tr th {\n",
       "        vertical-align: top;\n",
       "    }\n",
       "\n",
       "    .dataframe thead th {\n",
       "        text-align: right;\n",
       "    }\n",
       "</style>\n",
       "<table border=\"1\" class=\"dataframe\">\n",
       "  <thead>\n",
       "    <tr style=\"text-align: right;\">\n",
       "      <th></th>\n",
       "      <th>C_CUSTKEY</th>\n",
       "      <th>C_NAME</th>\n",
       "      <th>C_ADDRESS</th>\n",
       "      <th>C_NATIONKEY</th>\n",
       "      <th>C_PHONE</th>\n",
       "      <th>C_ACCTBAL</th>\n",
       "      <th>C_MKTSEGMENT</th>\n",
       "      <th>C_COMMENT</th>\n",
       "    </tr>\n",
       "  </thead>\n",
       "  <tbody>\n",
       "    <tr>\n",
       "      <th>0</th>\n",
       "      <td>1937281</td>\n",
       "      <td>Customer#001937281</td>\n",
       "      <td>6xPBL5fuEyQI83U3GVABqEWiKi5PI</td>\n",
       "      <td>7</td>\n",
       "      <td>17-391-174-3874</td>\n",
       "      <td>4201.49</td>\n",
       "      <td>BUILDING</td>\n",
       "      <td>nts are carefully blithely pending ideas. slyl...</td>\n",
       "    </tr>\n",
       "    <tr>\n",
       "      <th>1</th>\n",
       "      <td>1937282</td>\n",
       "      <td>Customer#001937282</td>\n",
       "      <td>ZCtUeLyCikiejeAKu8qeV</td>\n",
       "      <td>15</td>\n",
       "      <td>25-471-321-8939</td>\n",
       "      <td>3520.51</td>\n",
       "      <td>BUILDING</td>\n",
       "      <td>g to the final, silent escapades lose fluffily...</td>\n",
       "    </tr>\n",
       "    <tr>\n",
       "      <th>2</th>\n",
       "      <td>1937283</td>\n",
       "      <td>Customer#001937283</td>\n",
       "      <td>aNOsc2OPyxLj4n0p</td>\n",
       "      <td>12</td>\n",
       "      <td>22-351-208-2270</td>\n",
       "      <td>9137.50</td>\n",
       "      <td>HOUSEHOLD</td>\n",
       "      <td>waters sleep slyly special deposits. platelet...</td>\n",
       "    </tr>\n",
       "  </tbody>\n",
       "</table>\n",
       "</div>"
      ],
      "text/plain": [
       "   C_CUSTKEY              C_NAME                      C_ADDRESS  C_NATIONKEY  \\\n",
       "0    1937281  Customer#001937281  6xPBL5fuEyQI83U3GVABqEWiKi5PI            7   \n",
       "1    1937282  Customer#001937282          ZCtUeLyCikiejeAKu8qeV           15   \n",
       "2    1937283  Customer#001937283               aNOsc2OPyxLj4n0p           12   \n",
       "\n",
       "           C_PHONE C_ACCTBAL C_MKTSEGMENT  \\\n",
       "0  17-391-174-3874   4201.49     BUILDING   \n",
       "1  25-471-321-8939   3520.51     BUILDING   \n",
       "2  22-351-208-2270   9137.50    HOUSEHOLD   \n",
       "\n",
       "                                           C_COMMENT  \n",
       "0  nts are carefully blithely pending ideas. slyl...  \n",
       "1  g to the final, silent escapades lose fluffily...  \n",
       "2   waters sleep slyly special deposits. platelet...  "
      ]
     },
     "execution_count": 9,
     "metadata": {},
     "output_type": "execute_result"
    }
   ],
   "source": [
    "data_sf.head()"
   ]
  },
  {
   "cell_type": "code",
   "execution_count": 10,
   "metadata": {},
   "outputs": [
    {
     "data": {
      "text/plain": [
       "False"
      ]
     },
     "execution_count": 10,
     "metadata": {},
     "output_type": "execute_result"
    }
   ],
   "source": [
    "sc_cm.connected"
   ]
  }
 ],
 "metadata": {
  "kernelspec": {
   "display_name": "Python 3 (ipykernel)",
   "language": "python",
   "name": "python3"
  },
  "language_info": {
   "codemirror_mode": {
    "name": "ipython",
    "version": 3
   },
   "file_extension": ".py",
   "mimetype": "text/x-python",
   "name": "python",
   "nbconvert_exporter": "python",
   "pygments_lexer": "ipython3",
   "version": "3.8.10"
  }
 },
 "nbformat": 4,
 "nbformat_minor": 1
}
