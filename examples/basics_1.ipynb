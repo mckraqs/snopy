{
 "cells": [
  {
   "cell_type": "markdown",
   "metadata": {},
   "source": [
    "# `snopy` - basic usage and data querying"
   ]
  },
  {
   "cell_type": "markdown",
   "metadata": {},
   "source": [
    "## Imports"
   ]
  },
  {
   "cell_type": "code",
   "execution_count": 1,
   "metadata": {},
   "outputs": [],
   "source": [
    "import os\n",
    "from snopy import snopy_connect\n",
    "from snowflake.connector.errors import ProgrammingError"
   ]
  },
  {
   "cell_type": "markdown",
   "metadata": {},
   "source": [
    "## Credentials"
   ]
  },
  {
   "cell_type": "code",
   "execution_count": 2,
   "metadata": {},
   "outputs": [],
   "source": [
    "sf_username=os.environ['SNOWFLAKE_USER']\n",
    "sf_password=os.environ['SNOWFLAKE_PASSWORD']\n",
    "sf_account=os.environ['SNOWFLAKE_ACCOUNT']"
   ]
  },
  {
   "cell_type": "markdown",
   "metadata": {},
   "source": [
    "## Connecting to your Snowflake account"
   ]
  },
  {
   "cell_type": "code",
   "execution_count": 3,
   "metadata": {},
   "outputs": [],
   "source": [
    "sc = snopy_connect(\n",
    "    username=sf_username,\n",
    "    password=sf_password,\n",
    "    account=sf_account\n",
    ")"
   ]
  },
  {
   "cell_type": "markdown",
   "metadata": {},
   "source": [
    "## Environment setup"
   ]
  },
  {
   "cell_type": "code",
   "execution_count": 4,
   "metadata": {},
   "outputs": [
    {
     "data": {
      "text/plain": [
       "True"
      ]
     },
     "execution_count": 4,
     "metadata": {},
     "output_type": "execute_result"
    }
   ],
   "source": [
    "sc.database.get_current() is None"
   ]
  },
  {
   "cell_type": "code",
   "execution_count": 5,
   "metadata": {},
   "outputs": [],
   "source": [
    "sc.database.use('SNOWFLAKE_SAMPLE_DATA', silent=True)"
   ]
  },
  {
   "cell_type": "code",
   "execution_count": 6,
   "metadata": {},
   "outputs": [
    {
     "data": {
      "text/plain": [
       "'ACCOUNTADMIN'"
      ]
     },
     "execution_count": 6,
     "metadata": {},
     "output_type": "execute_result"
    }
   ],
   "source": [
    "sc.role.get_current()"
   ]
  },
  {
   "cell_type": "code",
   "execution_count": 7,
   "metadata": {},
   "outputs": [],
   "source": [
    "sc.set_environment(\n",
    "    warehouse='COMPUTE_WH',\n",
    "    schema='TPCH_SF100'\n",
    ")"
   ]
  },
  {
   "cell_type": "code",
   "execution_count": 8,
   "metadata": {},
   "outputs": [
    {
     "data": {
      "text/plain": [
       "{'role': 'ACCOUNTADMIN',\n",
       " 'database': 'SNOWFLAKE_SAMPLE_DATA',\n",
       " 'schema': 'TPCH_SF100',\n",
       " 'warehouse': 'COMPUTE_WH'}"
      ]
     },
     "execution_count": 8,
     "metadata": {},
     "output_type": "execute_result"
    }
   ],
   "source": [
    "sc.get_environment()"
   ]
  },
  {
   "cell_type": "markdown",
   "metadata": {},
   "source": [
    "## Creating new database and schema"
   ]
  },
  {
   "cell_type": "code",
   "execution_count": 9,
   "metadata": {},
   "outputs": [
    {
     "data": {
      "text/plain": [
       "{'results': [('Database SNOPY successfully created.',)],\n",
       " 'description': [ResultMetadata(name='status', type_code=2, display_size=None, internal_size=16777216, precision=None, scale=None, is_nullable=True)],\n",
       " 'statement': 'CREATE OR REPLACE DATABASE SNOPY'}"
      ]
     },
     "execution_count": 9,
     "metadata": {},
     "output_type": "execute_result"
    }
   ],
   "source": [
    "sc.database.create('SNOPY', or_replace=True)"
   ]
  },
  {
   "cell_type": "code",
   "execution_count": 10,
   "metadata": {},
   "outputs": [],
   "source": [
    "sc.database.use('SNOPY', silent=True)"
   ]
  },
  {
   "cell_type": "code",
   "execution_count": 11,
   "metadata": {},
   "outputs": [],
   "source": [
    "sc.schema.create('INGESTION_SCHEMA', silent=True)"
   ]
  },
  {
   "cell_type": "code",
   "execution_count": 12,
   "metadata": {},
   "outputs": [],
   "source": [
    "sc.schema.use('INGESTION_SCHEMA', True)"
   ]
  },
  {
   "cell_type": "markdown",
   "metadata": {},
   "source": [
    "## Executing custom query with a cursor"
   ]
  },
  {
   "cell_type": "code",
   "execution_count": 13,
   "metadata": {},
   "outputs": [
    {
     "data": {
      "text/plain": [
       "[(datetime.datetime(2022, 9, 15, 8, 30, 4, 889000, tzinfo=<DstTzInfo 'America/Los_Angeles' PDT-1 day, 17:00:00 DST>),\n",
       "  'INFORMATION_SCHEMA',\n",
       "  'N',\n",
       "  'N',\n",
       "  'SNOPY',\n",
       "  '',\n",
       "  'Views describing the contents of schemas in this database',\n",
       "  '',\n",
       "  '1'),\n",
       " (datetime.datetime(2022, 9, 15, 8, 30, 1, 216000, tzinfo=<DstTzInfo 'America/Los_Angeles' PDT-1 day, 17:00:00 DST>),\n",
       "  'INGESTION_SCHEMA',\n",
       "  'N',\n",
       "  'Y',\n",
       "  'SNOPY',\n",
       "  'ACCOUNTADMIN',\n",
       "  '',\n",
       "  '',\n",
       "  '1'),\n",
       " (datetime.datetime(2022, 9, 15, 8, 30, 0, 596000, tzinfo=<DstTzInfo 'America/Los_Angeles' PDT-1 day, 17:00:00 DST>),\n",
       "  'PUBLIC',\n",
       "  'N',\n",
       "  'N',\n",
       "  'SNOPY',\n",
       "  'ACCOUNTADMIN',\n",
       "  '',\n",
       "  '',\n",
       "  '1')]"
      ]
     },
     "execution_count": 13,
     "metadata": {},
     "output_type": "execute_result"
    }
   ],
   "source": [
    "sc.cursor.execute('SHOW SCHEMAS;').fetchall()"
   ]
  },
  {
   "cell_type": "markdown",
   "metadata": {},
   "source": [
    "## Data querying - wrong schema"
   ]
  },
  {
   "cell_type": "code",
   "execution_count": 14,
   "metadata": {},
   "outputs": [],
   "source": [
    "query = 'SELECT * FROM CUSTOMER;'"
   ]
  },
  {
   "cell_type": "code",
   "execution_count": 15,
   "metadata": {
    "scrolled": true
   },
   "outputs": [
    {
     "name": "stdout",
     "output_type": "stream",
     "text": [
      "Something went wrong!\n",
      "002003 (42S02): SQL compilation error:\n",
      "Object 'CUSTOMER' does not exist or not authorized.\n"
     ]
    }
   ],
   "source": [
    "# Querying table that doesn't exist in SNOPY/INGESTION_SCHEMA\n",
    "try:\n",
    "    results_1_not_working = sc.execute(query)\n",
    "except ProgrammingError as pe:\n",
    "    print('Something went wrong!')\n",
    "    print(pe)"
   ]
  },
  {
   "cell_type": "markdown",
   "metadata": {},
   "source": [
    "## Data querying - valid command run with session environment properly set up"
   ]
  },
  {
   "cell_type": "code",
   "execution_count": 16,
   "metadata": {},
   "outputs": [],
   "source": [
    "sc.set_environment(\n",
    "    database = 'SNOWFLAKE_SAMPLE_DATA',\n",
    "    schema = 'TPCH_SF100'\n",
    ")"
   ]
  },
  {
   "cell_type": "code",
   "execution_count": 17,
   "metadata": {
    "scrolled": true
   },
   "outputs": [
    {
     "data": {
      "text/plain": [
       "{'results': [(5450001,\n",
       "   'Customer#005450001',\n",
       "   'j 655pYx,ZbJ0Ktq4sB Ef8lFfD0Di',\n",
       "   20,\n",
       "   '30-681-597-5795',\n",
       "   Decimal('3503.51'),\n",
       "   'MACHINERY',\n",
       "   'the slyly even theodolites cajole final platelets: sly'),\n",
       "  (5450002,\n",
       "   'Customer#005450002',\n",
       "   'JGNavHUQ3bVxX,tjYDL3H',\n",
       "   18,\n",
       "   '28-481-591-7459',\n",
       "   Decimal('9540.18'),\n",
       "   'HOUSEHOLD',\n",
       "   'd sheaves. regular braids solve after the carefully pending requests'),\n",
       "  (5450003,\n",
       "   'Customer#005450003',\n",
       "   'RWDNNP6Wrg7wTZk1RRCdhpxOtVQ',\n",
       "   7,\n",
       "   '17-990-536-2087',\n",
       "   Decimal('3886.61'),\n",
       "   'BUILDING',\n",
       "   'eposits. quickly special grouches'),\n",
       "  (5450004,\n",
       "   'Customer#005450004',\n",
       "   'rgUN9YK3qksvye7BYG3WJTUd5s,rs6,rJVl4CQTL',\n",
       "   5,\n",
       "   '15-634-829-4041',\n",
       "   Decimal('2282.72'),\n",
       "   'AUTOMOBILE',\n",
       "   'ses wake alongside of the express foxes. r'),\n",
       "  (5450005,\n",
       "   'Customer#005450005',\n",
       "   'EMuO7IiXmwdzgODlWb,HOw8l5JTqJLply',\n",
       "   15,\n",
       "   '25-925-600-1012',\n",
       "   Decimal('6620.67'),\n",
       "   'HOUSEHOLD',\n",
       "   'the furiously regular requests. '),\n",
       "  (5450006,\n",
       "   'Customer#005450006',\n",
       "   '1RGNwiYNnu,XU6W4SWsiHqQGHcMNoG2siXW',\n",
       "   0,\n",
       "   '10-901-351-5252',\n",
       "   Decimal('6646.38'),\n",
       "   'MACHINERY',\n",
       "   'lly ironic pearls kindle alongside of the quickly final deposits'),\n",
       "  (5450007,\n",
       "   'Customer#005450007',\n",
       "   'iO9D4b2TAcXEZtJj PL2YWAX',\n",
       "   18,\n",
       "   '28-561-349-5750',\n",
       "   Decimal('9690.30'),\n",
       "   'FURNITURE',\n",
       "   ' affix slyly carefully ironic excus'),\n",
       "  (5450008,\n",
       "   'Customer#005450008',\n",
       "   'hlbQM03WN3cRcLM',\n",
       "   2,\n",
       "   '12-720-326-1171',\n",
       "   Decimal('7894.13'),\n",
       "   'MACHINERY',\n",
       "   'bold deposits are furiously fluffily even dependencies. quickly ironic asymptotes are? blithely final'),\n",
       "  (5450009,\n",
       "   'Customer#005450009',\n",
       "   'UCGKPmfRDlw3RWpqVfLNGBNysut8nP7mL',\n",
       "   2,\n",
       "   '12-562-720-6635',\n",
       "   Decimal('3726.17'),\n",
       "   'MACHINERY',\n",
       "   'ly even accounts are fluffily special platelets? blithely bold theodolites haggle slyl'),\n",
       "  (5450010,\n",
       "   'Customer#005450010',\n",
       "   'FUTicxqGsPrT,cntzRr',\n",
       "   16,\n",
       "   '26-415-375-2666',\n",
       "   Decimal('780.48'),\n",
       "   'MACHINERY',\n",
       "   'leep about the quickly even requests. accounts boost bl')],\n",
       " 'description': [ResultMetadata(name='C_CUSTKEY', type_code=0, display_size=None, internal_size=None, precision=38, scale=0, is_nullable=False),\n",
       "  ResultMetadata(name='C_NAME', type_code=2, display_size=None, internal_size=25, precision=None, scale=None, is_nullable=False),\n",
       "  ResultMetadata(name='C_ADDRESS', type_code=2, display_size=None, internal_size=40, precision=None, scale=None, is_nullable=False),\n",
       "  ResultMetadata(name='C_NATIONKEY', type_code=0, display_size=None, internal_size=None, precision=38, scale=0, is_nullable=False),\n",
       "  ResultMetadata(name='C_PHONE', type_code=2, display_size=None, internal_size=15, precision=None, scale=None, is_nullable=False),\n",
       "  ResultMetadata(name='C_ACCTBAL', type_code=0, display_size=None, internal_size=None, precision=12, scale=2, is_nullable=False),\n",
       "  ResultMetadata(name='C_MKTSEGMENT', type_code=2, display_size=None, internal_size=10, precision=None, scale=None, is_nullable=True),\n",
       "  ResultMetadata(name='C_COMMENT', type_code=2, display_size=None, internal_size=117, precision=None, scale=None, is_nullable=True)],\n",
       " 'statement': 'SELECT * FROM CUSTOMER;'}"
      ]
     },
     "execution_count": 17,
     "metadata": {},
     "output_type": "execute_result"
    }
   ],
   "source": [
    "results_1_working = sc.execute(query)\n",
    "results_1_working"
   ]
  },
  {
   "cell_type": "markdown",
   "metadata": {},
   "source": [
    "## Data querying - another valid command run"
   ]
  },
  {
   "cell_type": "code",
   "execution_count": 18,
   "metadata": {},
   "outputs": [
    {
     "name": "stdout",
     "output_type": "stream",
     "text": [
      "Rows returned: 100\n"
     ]
    },
    {
     "data": {
      "text/plain": [
       "[(5450001,\n",
       "  'Customer#005450001',\n",
       "  'j 655pYx,ZbJ0Ktq4sB Ef8lFfD0Di',\n",
       "  20,\n",
       "  '30-681-597-5795',\n",
       "  Decimal('3503.51'),\n",
       "  'MACHINERY',\n",
       "  'the slyly even theodolites cajole final platelets: sly'),\n",
       " (5450002,\n",
       "  'Customer#005450002',\n",
       "  'JGNavHUQ3bVxX,tjYDL3H',\n",
       "  18,\n",
       "  '28-481-591-7459',\n",
       "  Decimal('9540.18'),\n",
       "  'HOUSEHOLD',\n",
       "  'd sheaves. regular braids solve after the carefully pending requests')]"
      ]
     },
     "execution_count": 18,
     "metadata": {},
     "output_type": "execute_result"
    }
   ],
   "source": [
    "results_2 = sc.execute(query, n=100)\n",
    "\n",
    "print(f\"Rows returned: {len(results_2['results'])}\")\n",
    "results_2['results'][:2]"
   ]
  },
  {
   "cell_type": "markdown",
   "metadata": {},
   "source": [
    "## Data querying - mapping results to Pandas DataFrame"
   ]
  },
  {
   "cell_type": "code",
   "execution_count": 19,
   "metadata": {},
   "outputs": [
    {
     "name": "stdout",
     "output_type": "stream",
     "text": [
      "Rows returned: 100\n"
     ]
    },
    {
     "data": {
      "text/html": [
       "<div>\n",
       "<style scoped>\n",
       "    .dataframe tbody tr th:only-of-type {\n",
       "        vertical-align: middle;\n",
       "    }\n",
       "\n",
       "    .dataframe tbody tr th {\n",
       "        vertical-align: top;\n",
       "    }\n",
       "\n",
       "    .dataframe thead th {\n",
       "        text-align: right;\n",
       "    }\n",
       "</style>\n",
       "<table border=\"1\" class=\"dataframe\">\n",
       "  <thead>\n",
       "    <tr style=\"text-align: right;\">\n",
       "      <th></th>\n",
       "      <th>C_CUSTKEY</th>\n",
       "      <th>C_NAME</th>\n",
       "      <th>C_ADDRESS</th>\n",
       "      <th>C_NATIONKEY</th>\n",
       "      <th>C_PHONE</th>\n",
       "      <th>C_ACCTBAL</th>\n",
       "      <th>C_MKTSEGMENT</th>\n",
       "      <th>C_COMMENT</th>\n",
       "    </tr>\n",
       "  </thead>\n",
       "  <tbody>\n",
       "    <tr>\n",
       "      <th>0</th>\n",
       "      <td>5450001</td>\n",
       "      <td>Customer#005450001</td>\n",
       "      <td>j 655pYx,ZbJ0Ktq4sB Ef8lFfD0Di</td>\n",
       "      <td>20</td>\n",
       "      <td>30-681-597-5795</td>\n",
       "      <td>3503.51</td>\n",
       "      <td>MACHINERY</td>\n",
       "      <td>the slyly even theodolites cajole final platel...</td>\n",
       "    </tr>\n",
       "    <tr>\n",
       "      <th>1</th>\n",
       "      <td>5450002</td>\n",
       "      <td>Customer#005450002</td>\n",
       "      <td>JGNavHUQ3bVxX,tjYDL3H</td>\n",
       "      <td>18</td>\n",
       "      <td>28-481-591-7459</td>\n",
       "      <td>9540.18</td>\n",
       "      <td>HOUSEHOLD</td>\n",
       "      <td>d sheaves. regular braids solve after the care...</td>\n",
       "    </tr>\n",
       "  </tbody>\n",
       "</table>\n",
       "</div>"
      ],
      "text/plain": [
       "   C_CUSTKEY              C_NAME                       C_ADDRESS  C_NATIONKEY  \\\n",
       "0    5450001  Customer#005450001  j 655pYx,ZbJ0Ktq4sB Ef8lFfD0Di           20   \n",
       "1    5450002  Customer#005450002           JGNavHUQ3bVxX,tjYDL3H           18   \n",
       "\n",
       "           C_PHONE C_ACCTBAL C_MKTSEGMENT  \\\n",
       "0  30-681-597-5795   3503.51    MACHINERY   \n",
       "1  28-481-591-7459   9540.18    HOUSEHOLD   \n",
       "\n",
       "                                           C_COMMENT  \n",
       "0  the slyly even theodolites cajole final platel...  \n",
       "1  d sheaves. regular braids solve after the care...  "
      ]
     },
     "execution_count": 19,
     "metadata": {},
     "output_type": "execute_result"
    }
   ],
   "source": [
    "results_pandas = sc.query_pd(query, n=100)\n",
    "\n",
    "print(f'Rows returned: {len(results_pandas)}')\n",
    "results_pandas.head(2)"
   ]
  },
  {
   "cell_type": "markdown",
   "metadata": {},
   "source": [
    "# Extra"
   ]
  },
  {
   "cell_type": "markdown",
   "metadata": {},
   "source": [
    "### Objects: `cursor` and `connection`\n",
    "\n",
    "Both provided by Snowflake connector, that allow to execute any functionality possible with the original connector."
   ]
  },
  {
   "cell_type": "code",
   "execution_count": 20,
   "metadata": {},
   "outputs": [
    {
     "data": {
      "text/plain": [
       "[('COMPUTE_WH',)]"
      ]
     },
     "execution_count": 20,
     "metadata": {},
     "output_type": "execute_result"
    }
   ],
   "source": [
    "sc.cursor.execute('SELECT CURRENT_WAREHOUSE()').fetchall()"
   ]
  },
  {
   "cell_type": "code",
   "execution_count": 21,
   "metadata": {},
   "outputs": [
    {
     "data": {
      "text/plain": [
       "'SNOWFLAKE_SAMPLE_DATA'"
      ]
     },
     "execution_count": 21,
     "metadata": {},
     "output_type": "execute_result"
    }
   ],
   "source": [
    "sc.connection.database"
   ]
  },
  {
   "cell_type": "markdown",
   "metadata": {},
   "source": [
    "## Closing the connection"
   ]
  },
  {
   "cell_type": "code",
   "execution_count": 22,
   "metadata": {},
   "outputs": [],
   "source": [
    "sc.close_connection()"
   ]
  }
 ],
 "metadata": {
  "kernelspec": {
   "display_name": "Python 3 (ipykernel)",
   "language": "python",
   "name": "python3"
  },
  "language_info": {
   "codemirror_mode": {
    "name": "ipython",
    "version": 3
   },
   "file_extension": ".py",
   "mimetype": "text/x-python",
   "name": "python",
   "nbconvert_exporter": "python",
   "pygments_lexer": "ipython3",
   "version": "3.8.10"
  }
 },
 "nbformat": 4,
 "nbformat_minor": 1
}
