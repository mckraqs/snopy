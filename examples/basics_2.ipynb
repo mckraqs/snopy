{
 "cells": [
  {
   "cell_type": "markdown",
   "metadata": {},
   "source": [
    "# `snopy` - basic usage and warehouse management"
   ]
  },
  {
   "cell_type": "markdown",
   "metadata": {},
   "source": [
    "## Imports"
   ]
  },
  {
   "cell_type": "code",
   "execution_count": 1,
   "metadata": {},
   "outputs": [],
   "source": [
    "import os\n",
    "from snopy import SnowflakeConnector"
   ]
  },
  {
   "cell_type": "markdown",
   "metadata": {},
   "source": [
    "## Credentials"
   ]
  },
  {
   "cell_type": "code",
   "execution_count": 2,
   "metadata": {},
   "outputs": [],
   "source": [
    "sf_username=os.environ['SNOWFLAKE_USER']\n",
    "sf_password=os.environ['SNOWFLAKE_PASSWORD']\n",
    "sf_account=os.environ['SNOWFLAKE_ACCOUNT']"
   ]
  },
  {
   "cell_type": "markdown",
   "metadata": {},
   "source": [
    "## Connecting to your Snowflake account"
   ]
  },
  {
   "cell_type": "code",
   "execution_count": 3,
   "metadata": {},
   "outputs": [],
   "source": [
    "sc = SnowflakeConnector(\n",
    "    username=sf_username,\n",
    "    password=sf_password,\n",
    "    account=sf_account\n",
    ")"
   ]
  },
  {
   "cell_type": "markdown",
   "metadata": {},
   "source": [
    "## Environment setup"
   ]
  },
  {
   "cell_type": "code",
   "execution_count": 4,
   "metadata": {},
   "outputs": [],
   "source": [
    "sc.set_environment(\n",
    "    database='SNOWFLAKE_SAMPLE_DATA',\n",
    "    schema='TPCH_SF100'\n",
    ")"
   ]
  },
  {
   "cell_type": "code",
   "execution_count": 5,
   "metadata": {},
   "outputs": [
    {
     "data": {
      "text/plain": [
       "{'role': 'ACCOUNTADMIN',\n",
       " 'database': 'SNOWFLAKE_SAMPLE_DATA',\n",
       " 'schema': 'TPCH_SF100',\n",
       " 'warehouse': None}"
      ]
     },
     "execution_count": 5,
     "metadata": {},
     "output_type": "execute_result"
    }
   ],
   "source": [
    "# Warehouse is missing!\n",
    "sc.get_environment()"
   ]
  },
  {
   "cell_type": "markdown",
   "metadata": {},
   "source": [
    "## Creating a virtual warehouse for compute purposes"
   ]
  },
  {
   "cell_type": "code",
   "execution_count": 6,
   "metadata": {},
   "outputs": [
    {
     "data": {
      "text/plain": [
       "{'results': [('Warehouse TEST_WH successfully created.',)],\n",
       " 'description': [ResultMetadata(name='status', type_code=2, display_size=None, internal_size=16777216, precision=None, scale=None, is_nullable=True)],\n",
       " 'statement': 'CREATE OR REPLACE WAREHOUSE TEST_WH WITH WAREHOUSE_SIZE = LARGE MAX_CLUSTER_COUNT = 2 MIN_CLUSTER_COUNT = 1 SCALING_POLICY = ECONOMY AUTO_SUSPEND = 600 AUTO_RESUME = TRUE INITIALLY_SUSPENDED = FALSE'}"
      ]
     },
     "execution_count": 6,
     "metadata": {},
     "output_type": "execute_result"
    }
   ],
   "source": [
    "sc.warehouse.create(\n",
    "    'TEST_WH',\n",
    "    or_replace=True,\n",
    "    warehouse_size='LARGE',\n",
    "    min_cluster_count=1,\n",
    "    max_cluster_count=2,\n",
    "    scaling_policy='ECONOMY'\n",
    ")"
   ]
  },
  {
   "cell_type": "markdown",
   "metadata": {},
   "source": [
    "## Using virtual warehouse for querying and DML statements\n",
    "\n",
    "In fact, DDL statements are free of charge in Snowflake ecosystem (which includes creating, altering, droping objects like warehouses, tables, etc.) - [see the documentation for more](https://docs.snowflake.com/en/user-guide/warehouses-overview.html#impact-on-credit-usage-and-billing)"
   ]
  },
  {
   "cell_type": "code",
   "execution_count": 7,
   "metadata": {},
   "outputs": [
    {
     "data": {
      "text/plain": [
       "'TEST_WH'"
      ]
     },
     "execution_count": 7,
     "metadata": {},
     "output_type": "execute_result"
    }
   ],
   "source": [
    "sc.warehouse.use('TEST_WH')\n",
    "sc.warehouse.get_current()"
   ]
  },
  {
   "cell_type": "code",
   "execution_count": 8,
   "metadata": {},
   "outputs": [
    {
     "data": {
      "text/html": [
       "<div>\n",
       "<style scoped>\n",
       "    .dataframe tbody tr th:only-of-type {\n",
       "        vertical-align: middle;\n",
       "    }\n",
       "\n",
       "    .dataframe tbody tr th {\n",
       "        vertical-align: top;\n",
       "    }\n",
       "\n",
       "    .dataframe thead th {\n",
       "        text-align: right;\n",
       "    }\n",
       "</style>\n",
       "<table border=\"1\" class=\"dataframe\">\n",
       "  <thead>\n",
       "    <tr style=\"text-align: right;\">\n",
       "      <th></th>\n",
       "      <th>C_CUSTKEY</th>\n",
       "      <th>C_NAME</th>\n",
       "      <th>C_ADDRESS</th>\n",
       "      <th>C_NATIONKEY</th>\n",
       "      <th>C_PHONE</th>\n",
       "      <th>C_ACCTBAL</th>\n",
       "      <th>C_MKTSEGMENT</th>\n",
       "      <th>C_COMMENT</th>\n",
       "    </tr>\n",
       "  </thead>\n",
       "  <tbody>\n",
       "    <tr>\n",
       "      <th>0</th>\n",
       "      <td>6750022</td>\n",
       "      <td>Customer#006750022</td>\n",
       "      <td>ZDZAqKxQ GLjI mZ9qR1</td>\n",
       "      <td>23</td>\n",
       "      <td>33-465-870-5251</td>\n",
       "      <td>9326.27</td>\n",
       "      <td>AUTOMOBILE</td>\n",
       "      <td>ar, ironic dolphins. slyly final courts engage...</td>\n",
       "    </tr>\n",
       "    <tr>\n",
       "      <th>1</th>\n",
       "      <td>6750046</td>\n",
       "      <td>Customer#006750046</td>\n",
       "      <td>PnwRZmmdKrJtzqaOEdn3Hjp25</td>\n",
       "      <td>23</td>\n",
       "      <td>33-876-662-4662</td>\n",
       "      <td>788.25</td>\n",
       "      <td>FURNITURE</td>\n",
       "      <td>fluffily unusual asymptotes. quickly regular pla</td>\n",
       "    </tr>\n",
       "    <tr>\n",
       "      <th>2</th>\n",
       "      <td>6750093</td>\n",
       "      <td>Customer#006750093</td>\n",
       "      <td>JtlYbCHMfNmxV3UAxdY1mALF2QSuX</td>\n",
       "      <td>23</td>\n",
       "      <td>33-139-998-8416</td>\n",
       "      <td>1928.52</td>\n",
       "      <td>BUILDING</td>\n",
       "      <td>ructions. furiously regular asymptotes wake sl...</td>\n",
       "    </tr>\n",
       "    <tr>\n",
       "      <th>3</th>\n",
       "      <td>6750114</td>\n",
       "      <td>Customer#006750114</td>\n",
       "      <td>frEJqHOI0g42tYG2X5jnrqkXmWgz</td>\n",
       "      <td>23</td>\n",
       "      <td>33-322-891-6512</td>\n",
       "      <td>9185.07</td>\n",
       "      <td>HOUSEHOLD</td>\n",
       "      <td>rts. carefully regular requests x-ray blithely...</td>\n",
       "    </tr>\n",
       "    <tr>\n",
       "      <th>4</th>\n",
       "      <td>6750121</td>\n",
       "      <td>Customer#006750121</td>\n",
       "      <td>enw4SW7Ke0Qg5Ut153l</td>\n",
       "      <td>23</td>\n",
       "      <td>33-509-421-5704</td>\n",
       "      <td>2442.01</td>\n",
       "      <td>BUILDING</td>\n",
       "      <td>ngage. express requests sleep blithely about t...</td>\n",
       "    </tr>\n",
       "  </tbody>\n",
       "</table>\n",
       "</div>"
      ],
      "text/plain": [
       "   C_CUSTKEY              C_NAME                       C_ADDRESS  C_NATIONKEY  \\\n",
       "0    6750022  Customer#006750022            ZDZAqKxQ GLjI mZ9qR1           23   \n",
       "1    6750046  Customer#006750046       PnwRZmmdKrJtzqaOEdn3Hjp25           23   \n",
       "2    6750093  Customer#006750093   JtlYbCHMfNmxV3UAxdY1mALF2QSuX           23   \n",
       "3    6750114  Customer#006750114    frEJqHOI0g42tYG2X5jnrqkXmWgz           23   \n",
       "4    6750121  Customer#006750121             enw4SW7Ke0Qg5Ut153l           23   \n",
       "\n",
       "           C_PHONE C_ACCTBAL C_MKTSEGMENT  \\\n",
       "0  33-465-870-5251   9326.27   AUTOMOBILE   \n",
       "1  33-876-662-4662    788.25    FURNITURE   \n",
       "2  33-139-998-8416   1928.52     BUILDING   \n",
       "3  33-322-891-6512   9185.07    HOUSEHOLD   \n",
       "4  33-509-421-5704   2442.01     BUILDING   \n",
       "\n",
       "                                           C_COMMENT  \n",
       "0  ar, ironic dolphins. slyly final courts engage...  \n",
       "1   fluffily unusual asymptotes. quickly regular pla  \n",
       "2  ructions. furiously regular asymptotes wake sl...  \n",
       "3  rts. carefully regular requests x-ray blithely...  \n",
       "4  ngage. express requests sleep blithely about t...  "
      ]
     },
     "execution_count": 8,
     "metadata": {},
     "output_type": "execute_result"
    }
   ],
   "source": [
    "sc.query_pd('SELECT * FROM CUSTOMER WHERE C_NATIONKEY=23').head(5)"
   ]
  },
  {
   "cell_type": "markdown",
   "metadata": {},
   "source": [
    "## Closing the connection"
   ]
  },
  {
   "cell_type": "code",
   "execution_count": 9,
   "metadata": {},
   "outputs": [],
   "source": [
    "sc.close_connection()"
   ]
  }
 ],
 "metadata": {
  "kernelspec": {
   "display_name": "Python 3 (ipykernel)",
   "language": "python",
   "name": "python3"
  },
  "language_info": {
   "codemirror_mode": {
    "name": "ipython",
    "version": 3
   },
   "file_extension": ".py",
   "mimetype": "text/x-python",
   "name": "python",
   "nbconvert_exporter": "python",
   "pygments_lexer": "ipython3",
   "version": "3.8.10"
  }
 },
 "nbformat": 4,
 "nbformat_minor": 1
}
